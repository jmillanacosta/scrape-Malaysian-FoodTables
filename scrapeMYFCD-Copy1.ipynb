{
 "cells": [
  {
   "cell_type": "markdown",
   "id": "incoming-spine",
   "metadata": {},
   "source": [
    "# Scraping the Food Composition Tables from the [Malaysian Food Composition Database (MYFCD)](https://myfcd.moh.gov.my/myfcdcurrent/)\n",
    "\n",
    "## Introduction\n",
    "The Malaysian Food Composition tables are not available for download, but they can be consulted at [MyFCD](https://myfcd.moh.gov.my/myfcdcurrent/). This is a Python script that opens the MyFCD website, scrapes all data from the food composition tables, and returns the nutritional information for each entry in a .csv file.\n",
    "\n",
    "It is convenient to run this script every time the MyFCD is updated in order to retrieve the latest food composition data.\n",
    "\n",
    "There are two sources: \n",
    "* [The current Malaysian FCD](https://myfcd.moh.gov.my/myfcdcurrent), with around 170 food items at the moment\n",
    "* [The Industry module](https://myfcd.moh.gov.my/myfcdindustri), with around 330 items at the moment"
   ]
  },
  {
   "cell_type": "markdown",
   "id": "angry-establishment",
   "metadata": {},
   "source": [
    "## Imports\n",
    "### Libraries"
   ]
  },
  {
   "cell_type": "code",
   "execution_count": 29,
   "id": "naughty-house",
   "metadata": {},
   "outputs": [],
   "source": [
    "from bs4 import BeautifulSoup as bs\n",
    "import json\n",
    "import requests\n",
    "import re\n",
    "import pandas as pd\n"
   ]
  },
  {
   "cell_type": "markdown",
   "id": "charitable-dealing",
   "metadata": {},
   "source": [
    "## A) Scraping the current Malaysian FCD Module"
   ]
  },
  {
   "cell_type": "markdown",
   "id": "dressed-punch",
   "metadata": {},
   "source": [
    "### Request al URLs contained in the dynamic javascript table at MyFCD\n",
    "Inspecting the html of FCD, I found all item identifiers are stored under the site https://myfcd.moh.gov.my/myfcdcurrent/index.php/ajax/datatable_data.\n",
    "All links to the food items look like this:\n",
    "`https://myfcd.moh.gov.my/myfcdcurrent/index.php/site/detail_product/RXXXXXX/0/168/-1/0/0`,\n",
    "where RXXXXXX is each individual identifier, and X any digit 0-9. The code below generates all food item URLs:"
   ]
  },
  {
   "cell_type": "code",
   "execution_count": 30,
   "id": "linear-platform",
   "metadata": {},
   "outputs": [],
   "source": [
    "# Set up request parameters\n",
    "headers={'User-Agent': 'Mozilla/5.0'}\n",
    "identifierSite = \"https://myfcd.moh.gov.my/myfcdcurrent/index.php/ajax/datatable_data\"\n",
    "r = requests.get(identifierSite, headers=headers)\n",
    "parsed = r.text\n",
    "pattern = \"R\\d+\\d+\\d+\\d+\\d+\\d+\"\n",
    "matches = re.findall(pattern, parsed)\n",
    "# URLs to be generated contain matches inbetween strings url1 and url1\n",
    "url1, url2 = \"https://myfcd.moh.gov.my/myfcdcurrent/index.php/site/detail_product/\", \"/0/168/-1/0/0\"\n",
    "# Create list to store all URLs\n",
    "urls = []\n",
    "# Assemble each identifier's URL\n",
    "for match in matches:\n",
    "    url = \"\".join((\"\".join((url1, match)), url2))\n",
    "    urls.append(url)"
   ]
  },
  {
   "cell_type": "markdown",
   "id": "false-marble",
   "metadata": {},
   "source": [
    "### Create the nutrition dictionary that will gather and store the data scraped from the website"
   ]
  },
  {
   "cell_type": "code",
   "execution_count": 31,
   "id": "immediate-stadium",
   "metadata": {},
   "outputs": [],
   "source": [
    "nutrition = dict()\n",
    "# Analyze each URL (each food)\n",
    "for url in urls:\n",
    "    # Request web\n",
    "    my = requests.get(url, headers=headers)\n",
    "    # Parse html to string\n",
    "    parsed = str(my.content)\n",
    "    # Food name is between headers <h3>\n",
    "    nameIndex = ((len(\"<h3>\") + parsed.find(\"<h3>\")), (parsed.find(\"</h3\")))\n",
    "    name = parsed[nameIndex[0]:nameIndex[1]]\n",
    "    ## Exclude the code at the end of the name\n",
    "    indexCode = name.find(\"<\")\n",
    "    name = name[0:indexCode]\n",
    "    # Retrieve the JSON containing nutrition values\n",
    "    beginJSON = parsed.find(\"var product_nutrients =  \")\n",
    "    beginJSON = beginJSON + len(\"var product_nutrients =  \")\n",
    "    endJSON = parsed.find(\";\\\\n\", beginJSON)\n",
    "    nutriJSON = parsed[beginJSON:endJSON]\n",
    "    nutriJSON = json.loads(nutriJSON)\n",
    "    # Create list to store nutritional values for this item\n",
    "    nutrients = list()\n",
    "    # Retrieve the subdictionary entry containing the value of each nutrient\n",
    "    for nutrient in nutriJSON.keys():\n",
    "        value = nutriJSON[nutrient][\"value\"]\n",
    "        nutrientValue = (nutrient, value)\n",
    "        nutrients.append(nutrientValue)\n",
    "    # Append each entry to the nutrition dictionary\n",
    "    nutrition[name] = dict(nutrients)\n"
   ]
  },
  {
   "cell_type": "markdown",
   "id": "waiting-conjunction",
   "metadata": {},
   "source": [
    "# B) Scraping the Industry Module\n",
    "Process is similar to before, but the website with all identifiers is https://myfcd.moh.gov.my/myfcdindustri//static/DataTables-1.10.12/examples/server_side/scripts/server_processing.php in this case. The URLs look like this:\n",
    "`https://myfcd.moh.gov.my/myfcdindustri/index.php/site/detail_product/XXXXXXX/0/10/-1/0/0/`, where X is any digit from 0-9."
   ]
  },
  {
   "cell_type": "code",
   "execution_count": 32,
   "id": "affiliated-shock",
   "metadata": {},
   "outputs": [],
   "source": [
    "# Set up request parameters\n",
    "headers={'User-Agent': 'Mozilla/5.0'}\n",
    "identifierSite = \"https://myfcd.moh.gov.my/myfcdindustri//static/DataTables-1.10.12/examples/server_side/scripts/server_processing.php\"\n",
    "r = requests.get(identifierSite, headers=headers)\n",
    "parsed = r.text\n",
    "pattern = \"\\d+\\d+\\d+\\d+\\d+\\d+\\d+\"\n",
    "matches = re.findall(pattern, parsed)\n",
    "# URLs to be generated contain matches inbetween strings url1 and url1\n",
    "url1, url2 = \"https://myfcd.moh.gov.my/myfcdindustri/index.php/site/detail_product/\", \"/0/10/-1/0/0/\"\n",
    "# Create list to store all URLs\n",
    "urls = []\n",
    "# Assemble each identifier's URL\n",
    "for match in matches:\n",
    "    url = \"\".join((\"\".join((url1, match)), url2))\n",
    "    urls.append(url)"
   ]
  },
  {
   "cell_type": "code",
   "execution_count": 33,
   "id": "paperback-mixture",
   "metadata": {},
   "outputs": [],
   "source": [
    "nutritionIndustry = dict()\n",
    "# Analyze each URL (each food)\n",
    "for url in urls:\n",
    "    # Request web\n",
    "    # Request web\n",
    "    my = requests.get(url, headers=headers)\n",
    "    # Parse html to string\n",
    "    parsed = str(my.content)\n",
    "    # Food name is between headers <h3>\n",
    "    nameIndex = ((len(\"<h3>\") + parsed.find(\"<h3>\")), (parsed.find(\"</h3\")))\n",
    "    name = parsed[nameIndex[0]:nameIndex[1]]\n",
    "    ## Exclude the code at the end of the name\n",
    "    indexCode = name.find(\"<\")\n",
    "    name = name[0:indexCode]\n",
    "    # Retrieve the JSON containing nutrition values\n",
    "    beginJSON = parsed.find(\"var product_nutrients =  \")\n",
    "    beginJSON = beginJSON + len(\"var product_nutrients =  \")\n",
    "    endJSON = parsed.find(\";\\\\n\", beginJSON)\n",
    "    nutriJSON = parsed[beginJSON:endJSON]\n",
    "    nutriJSON = json.loads(nutriJSON)\n",
    "    # In this case, they did not add key names. To work as a dictionary, I will add dummy key names\n",
    "    i = 0\n",
    "    nutriJSONdict = dict()\n",
    "    for item in nutriJSON:\n",
    "        dummy = i\n",
    "        i = i+1\n",
    "        nutriJSONdict[dummy] = item\n",
    "    nutriJSON = nutriJSONdict\n",
    "    # Create list to store nutritional values for this item\n",
    "    nutrients = list()\n",
    "    # Retrieve the subdictionary entry containing the value of each nutrient\n",
    "    for nutrient in nutriJSON.keys():\n",
    "        value = nutriJSON[nutrient][\"value\"]\n",
    "        nutrient = nutriJSON[nutrient][\"name\"]\n",
    "        nutrientValue = (nutrient, value)\n",
    "        nutrients.append(nutrientValue)\n",
    "    # Append each entry to the nutrition dictionary\n",
    "    nutritionIndustry[name] = dict(nutrients)"
   ]
  },
  {
   "cell_type": "markdown",
   "id": "several-colorado",
   "metadata": {},
   "source": [
    "# Export a csv combining both databases\n",
    "This csv will be formatted in R afterwards, but it is already utilizable and contrastable against MyFCD."
   ]
  },
  {
   "cell_type": "code",
   "execution_count": 38,
   "id": "extraordinary-terrorist",
   "metadata": {},
   "outputs": [],
   "source": [
    "# Append the two databases into one dictionary\n",
    "nutrition.update(nutritionIndustry)\n",
    "# Create a data frame and export it in csv\n",
    "nutritionDf = pd.DataFrame(nutrition)\n",
    "nutritionDf.to_csv(\"fctMalaysia.csv\")\n",
    "# Create a JSON and export it too\n",
    "with open(\"fctJSON\", \"w\") as json_file:\n",
    "        json.dump(nutrition, json_file)"
   ]
  }
 ],
 "metadata": {
  "kernelspec": {
   "display_name": "Python 3.8",
   "language": "python",
   "name": "py3.8"
  },
  "language_info": {
   "codemirror_mode": {
    "name": "ipython",
    "version": 3
   },
   "file_extension": ".py",
   "mimetype": "text/x-python",
   "name": "python",
   "nbconvert_exporter": "python",
   "pygments_lexer": "ipython3",
   "version": "3.8.6"
  }
 },
 "nbformat": 4,
 "nbformat_minor": 5
}
